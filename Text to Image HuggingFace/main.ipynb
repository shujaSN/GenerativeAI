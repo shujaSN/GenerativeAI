{
 "cells": [
  {
   "cell_type": "code",
   "execution_count": 1,
   "metadata": {},
   "outputs": [],
   "source": [
    "from diffusers import DiffusionPipeline"
   ]
  },
  {
   "cell_type": "code",
   "execution_count": 2,
   "metadata": {},
   "outputs": [
    {
     "data": {
      "application/vnd.jupyter.widget-view+json": {
       "model_id": "fa64cde090ad4ccaa85b6226181af108",
       "version_major": 2,
       "version_minor": 0
      },
      "text/plain": [
       "Loading pipeline components...:   0%|          | 0/7 [00:00<?, ?it/s]"
      ]
     },
     "metadata": {},
     "output_type": "display_data"
    },
    {
     "name": "stderr",
     "output_type": "stream",
     "text": [
      "The config attributes {'predict_epsilon': True} were passed to DPMSolverMultistepScheduler, but are not expected and will be ignored. Please verify your scheduler_config.json configuration file.\n",
      "An error occurred while trying to fetch C:\\Users\\Ali Shuja Sardar\\.cache\\huggingface\\hub\\models--OFA-Sys--small-stable-diffusion-v0\\snapshots\\38e10e5e71e8fbf717a47a81e7543cd01c1a8140\\unet: Error no file named diffusion_pytorch_model.safetensors found in directory C:\\Users\\Ali Shuja Sardar\\.cache\\huggingface\\hub\\models--OFA-Sys--small-stable-diffusion-v0\\snapshots\\38e10e5e71e8fbf717a47a81e7543cd01c1a8140\\unet.\n",
      "Defaulting to unsafe serialization. Pass `allow_pickle=False` to raise an error instead.\n",
      "An error occurred while trying to fetch C:\\Users\\Ali Shuja Sardar\\.cache\\huggingface\\hub\\models--OFA-Sys--small-stable-diffusion-v0\\snapshots\\38e10e5e71e8fbf717a47a81e7543cd01c1a8140\\vae: Error no file named diffusion_pytorch_model.safetensors found in directory C:\\Users\\Ali Shuja Sardar\\.cache\\huggingface\\hub\\models--OFA-Sys--small-stable-diffusion-v0\\snapshots\\38e10e5e71e8fbf717a47a81e7543cd01c1a8140\\vae.\n",
      "Defaulting to unsafe serialization. Pass `allow_pickle=False` to raise an error instead.\n",
      "c:\\Users\\Ali Shuja Sardar\\anaconda3\\envs\\Langchain\\Lib\\site-packages\\diffusers\\pipelines\\stable_diffusion\\pipeline_stable_diffusion.py:221: FutureWarning: The configuration file of this scheduler: DPMSolverMultistepScheduler {\n",
      "  \"_class_name\": \"DPMSolverMultistepScheduler\",\n",
      "  \"_diffusers_version\": \"0.31.0\",\n",
      "  \"algorithm_type\": \"dpmsolver++\",\n",
      "  \"beta_end\": 0.012,\n",
      "  \"beta_schedule\": \"scaled_linear\",\n",
      "  \"beta_start\": 0.00085,\n",
      "  \"dynamic_thresholding_ratio\": 0.995,\n",
      "  \"euler_at_final\": false,\n",
      "  \"final_sigmas_type\": \"zero\",\n",
      "  \"lambda_min_clipped\": -Infinity,\n",
      "  \"lower_order_final\": true,\n",
      "  \"num_train_timesteps\": 1000,\n",
      "  \"predict_epsilon\": true,\n",
      "  \"prediction_type\": \"epsilon\",\n",
      "  \"rescale_betas_zero_snr\": false,\n",
      "  \"sample_max_value\": 1.0,\n",
      "  \"solver_order\": 2,\n",
      "  \"solver_type\": \"midpoint\",\n",
      "  \"steps_offset\": 0,\n",
      "  \"thresholding\": false,\n",
      "  \"timestep_spacing\": \"linspace\",\n",
      "  \"trained_betas\": null,\n",
      "  \"use_beta_sigmas\": false,\n",
      "  \"use_exponential_sigmas\": false,\n",
      "  \"use_karras_sigmas\": false,\n",
      "  \"use_lu_lambdas\": false,\n",
      "  \"variance_type\": null\n",
      "}\n",
      " is outdated. `steps_offset` should be set to 1 instead of 0. Please make sure to update the config accordingly as leaving `steps_offset` might led to incorrect results in future versions. If you have downloaded this checkpoint from the Hugging Face Hub, it would be very nice if you could open a Pull request for the `scheduler/scheduler_config.json` file\n",
      "  deprecate(\"steps_offset!=1\", \"1.0.0\", deprecation_message, standard_warn=False)\n"
     ]
    }
   ],
   "source": [
    "#OFA-Sys/small-stable-diffusion-v0\n",
    "\n",
    "pipe = DiffusionPipeline.from_pretrained(\"OFA-Sys/small-stable-diffusion-v0\")"
   ]
  },
  {
   "cell_type": "code",
   "execution_count": 6,
   "metadata": {},
   "outputs": [],
   "source": [
    "prompt = \"A green apple, shiny and fresh, detailed, realistic lighting , 2k\""
   ]
  },
  {
   "cell_type": "code",
   "execution_count": 7,
   "metadata": {},
   "outputs": [
    {
     "data": {
      "application/vnd.jupyter.widget-view+json": {
       "model_id": "13a02d992ac04749bcfd568ac1142d2b",
       "version_major": 2,
       "version_minor": 0
      },
      "text/plain": [
       "  0%|          | 0/50 [00:00<?, ?it/s]"
      ]
     },
     "metadata": {},
     "output_type": "display_data"
    }
   ],
   "source": [
    "output = pipe (prompt).images[0]\n",
    "output.save(\"apple.png\")"
   ]
  }
 ],
 "metadata": {
  "kernelspec": {
   "display_name": "Langchain",
   "language": "python",
   "name": "python3"
  },
  "language_info": {
   "codemirror_mode": {
    "name": "ipython",
    "version": 3
   },
   "file_extension": ".py",
   "mimetype": "text/x-python",
   "name": "python",
   "nbconvert_exporter": "python",
   "pygments_lexer": "ipython3",
   "version": "3.12.7"
  }
 },
 "nbformat": 4,
 "nbformat_minor": 2
}
